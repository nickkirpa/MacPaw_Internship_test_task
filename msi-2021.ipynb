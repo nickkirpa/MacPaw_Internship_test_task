{
 "cells": [
  {
   "cell_type": "code",
   "execution_count": 1,
   "metadata": {},
   "outputs": [],
   "source": [
    "import pandas as pd\n",
    "import numpy as np\n",
    "from sklearn.preprocessing import LabelEncoder, MinMaxScaler\n",
    "from skopt.space import Real, Integer, Categorical\n",
    "from skopt.utils import use_named_args\n",
    "from skopt import gp_minimize, forest_minimize, dummy_minimize\n",
    "from skopt.plots import plot_convergence\n",
    "from sklearn.tree import DecisionTreeRegressor\n",
    "from sklearn.model_selection import RepeatedKFold, train_test_split, cross_val_score\n",
    "from sklearn.model_selection import GridSearchCV\n",
    "from sklearn.metrics import mean_squared_error, mean_absolute_error\n",
    "import sklearn\n",
    "from matplotlib import pyplot as plt\n",
    "from sklearn import tree\n",
    "import lightgbm as lgb\n",
    "from lightgbm import LGBMRegressor"
   ]
  },
  {
   "cell_type": "code",
   "execution_count": 2,
   "metadata": {},
   "outputs": [],
   "source": [
    "train = pd.read_csv('data/train.csv')\n",
    "test = pd.read_csv('data/test.csv')"
   ]
  },
  {
   "cell_type": "markdown",
   "metadata": {},
   "source": [
    "#### Creating target"
   ]
  },
  {
   "cell_type": "code",
   "execution_count": 3,
   "metadata": {},
   "outputs": [
    {
     "name": "stdout",
     "output_type": "stream",
     "text": [
      "['SalePrice']\n"
     ]
    }
   ],
   "source": [
    "target_col=list(set(train.columns) ^ set(test.columns))\n",
    "print(target_col)"
   ]
  },
  {
   "cell_type": "code",
   "execution_count": 4,
   "metadata": {},
   "outputs": [],
   "source": [
    "cols = train.columns"
   ]
  },
  {
   "cell_type": "code",
   "execution_count": 5,
   "metadata": {},
   "outputs": [],
   "source": [
    "y = train['SalePrice']"
   ]
  },
  {
   "cell_type": "code",
   "execution_count": 6,
   "metadata": {},
   "outputs": [],
   "source": [
    "train = train.drop('SalePrice', 1)"
   ]
  },
  {
   "cell_type": "code",
   "execution_count": 7,
   "metadata": {},
   "outputs": [
    {
     "data": {
      "text/html": [
       "<div>\n",
       "<style scoped>\n",
       "    .dataframe tbody tr th:only-of-type {\n",
       "        vertical-align: middle;\n",
       "    }\n",
       "\n",
       "    .dataframe tbody tr th {\n",
       "        vertical-align: top;\n",
       "    }\n",
       "\n",
       "    .dataframe thead th {\n",
       "        text-align: right;\n",
       "    }\n",
       "</style>\n",
       "<table border=\"1\" class=\"dataframe\">\n",
       "  <thead>\n",
       "    <tr style=\"text-align: right;\">\n",
       "      <th></th>\n",
       "      <th>Id</th>\n",
       "      <th>MSSubClass</th>\n",
       "      <th>LotFrontage</th>\n",
       "      <th>LotArea</th>\n",
       "      <th>OverallQual</th>\n",
       "      <th>OverallCond</th>\n",
       "      <th>YearBuilt</th>\n",
       "      <th>YearRemodAdd</th>\n",
       "      <th>MasVnrArea</th>\n",
       "      <th>BsmtFinSF1</th>\n",
       "      <th>...</th>\n",
       "      <th>GarageArea</th>\n",
       "      <th>WoodDeckSF</th>\n",
       "      <th>OpenPorchSF</th>\n",
       "      <th>EnclosedPorch</th>\n",
       "      <th>3SsnPorch</th>\n",
       "      <th>ScreenPorch</th>\n",
       "      <th>PoolArea</th>\n",
       "      <th>MiscVal</th>\n",
       "      <th>MoSold</th>\n",
       "      <th>YrSold</th>\n",
       "    </tr>\n",
       "  </thead>\n",
       "  <tbody>\n",
       "    <tr>\n",
       "      <th>count</th>\n",
       "      <td>1460.000000</td>\n",
       "      <td>1460.000000</td>\n",
       "      <td>1201.000000</td>\n",
       "      <td>1460.000000</td>\n",
       "      <td>1460.000000</td>\n",
       "      <td>1460.000000</td>\n",
       "      <td>1460.000000</td>\n",
       "      <td>1460.000000</td>\n",
       "      <td>1452.000000</td>\n",
       "      <td>1460.000000</td>\n",
       "      <td>...</td>\n",
       "      <td>1460.000000</td>\n",
       "      <td>1460.000000</td>\n",
       "      <td>1460.000000</td>\n",
       "      <td>1460.000000</td>\n",
       "      <td>1460.000000</td>\n",
       "      <td>1460.000000</td>\n",
       "      <td>1460.000000</td>\n",
       "      <td>1460.000000</td>\n",
       "      <td>1460.000000</td>\n",
       "      <td>1460.000000</td>\n",
       "    </tr>\n",
       "    <tr>\n",
       "      <th>mean</th>\n",
       "      <td>730.500000</td>\n",
       "      <td>56.897260</td>\n",
       "      <td>70.049958</td>\n",
       "      <td>10516.828082</td>\n",
       "      <td>6.099315</td>\n",
       "      <td>5.575342</td>\n",
       "      <td>1971.267808</td>\n",
       "      <td>1984.865753</td>\n",
       "      <td>103.685262</td>\n",
       "      <td>443.639726</td>\n",
       "      <td>...</td>\n",
       "      <td>472.980137</td>\n",
       "      <td>94.244521</td>\n",
       "      <td>46.660274</td>\n",
       "      <td>21.954110</td>\n",
       "      <td>3.409589</td>\n",
       "      <td>15.060959</td>\n",
       "      <td>2.758904</td>\n",
       "      <td>43.489041</td>\n",
       "      <td>6.321918</td>\n",
       "      <td>2007.815753</td>\n",
       "    </tr>\n",
       "    <tr>\n",
       "      <th>std</th>\n",
       "      <td>421.610009</td>\n",
       "      <td>42.300571</td>\n",
       "      <td>24.284752</td>\n",
       "      <td>9981.264932</td>\n",
       "      <td>1.382997</td>\n",
       "      <td>1.112799</td>\n",
       "      <td>30.202904</td>\n",
       "      <td>20.645407</td>\n",
       "      <td>181.066207</td>\n",
       "      <td>456.098091</td>\n",
       "      <td>...</td>\n",
       "      <td>213.804841</td>\n",
       "      <td>125.338794</td>\n",
       "      <td>66.256028</td>\n",
       "      <td>61.119149</td>\n",
       "      <td>29.317331</td>\n",
       "      <td>55.757415</td>\n",
       "      <td>40.177307</td>\n",
       "      <td>496.123024</td>\n",
       "      <td>2.703626</td>\n",
       "      <td>1.328095</td>\n",
       "    </tr>\n",
       "    <tr>\n",
       "      <th>min</th>\n",
       "      <td>1.000000</td>\n",
       "      <td>20.000000</td>\n",
       "      <td>21.000000</td>\n",
       "      <td>1300.000000</td>\n",
       "      <td>1.000000</td>\n",
       "      <td>1.000000</td>\n",
       "      <td>1872.000000</td>\n",
       "      <td>1950.000000</td>\n",
       "      <td>0.000000</td>\n",
       "      <td>0.000000</td>\n",
       "      <td>...</td>\n",
       "      <td>0.000000</td>\n",
       "      <td>0.000000</td>\n",
       "      <td>0.000000</td>\n",
       "      <td>0.000000</td>\n",
       "      <td>0.000000</td>\n",
       "      <td>0.000000</td>\n",
       "      <td>0.000000</td>\n",
       "      <td>0.000000</td>\n",
       "      <td>1.000000</td>\n",
       "      <td>2006.000000</td>\n",
       "    </tr>\n",
       "    <tr>\n",
       "      <th>25%</th>\n",
       "      <td>365.750000</td>\n",
       "      <td>20.000000</td>\n",
       "      <td>59.000000</td>\n",
       "      <td>7553.500000</td>\n",
       "      <td>5.000000</td>\n",
       "      <td>5.000000</td>\n",
       "      <td>1954.000000</td>\n",
       "      <td>1967.000000</td>\n",
       "      <td>0.000000</td>\n",
       "      <td>0.000000</td>\n",
       "      <td>...</td>\n",
       "      <td>334.500000</td>\n",
       "      <td>0.000000</td>\n",
       "      <td>0.000000</td>\n",
       "      <td>0.000000</td>\n",
       "      <td>0.000000</td>\n",
       "      <td>0.000000</td>\n",
       "      <td>0.000000</td>\n",
       "      <td>0.000000</td>\n",
       "      <td>5.000000</td>\n",
       "      <td>2007.000000</td>\n",
       "    </tr>\n",
       "    <tr>\n",
       "      <th>50%</th>\n",
       "      <td>730.500000</td>\n",
       "      <td>50.000000</td>\n",
       "      <td>69.000000</td>\n",
       "      <td>9478.500000</td>\n",
       "      <td>6.000000</td>\n",
       "      <td>5.000000</td>\n",
       "      <td>1973.000000</td>\n",
       "      <td>1994.000000</td>\n",
       "      <td>0.000000</td>\n",
       "      <td>383.500000</td>\n",
       "      <td>...</td>\n",
       "      <td>480.000000</td>\n",
       "      <td>0.000000</td>\n",
       "      <td>25.000000</td>\n",
       "      <td>0.000000</td>\n",
       "      <td>0.000000</td>\n",
       "      <td>0.000000</td>\n",
       "      <td>0.000000</td>\n",
       "      <td>0.000000</td>\n",
       "      <td>6.000000</td>\n",
       "      <td>2008.000000</td>\n",
       "    </tr>\n",
       "    <tr>\n",
       "      <th>75%</th>\n",
       "      <td>1095.250000</td>\n",
       "      <td>70.000000</td>\n",
       "      <td>80.000000</td>\n",
       "      <td>11601.500000</td>\n",
       "      <td>7.000000</td>\n",
       "      <td>6.000000</td>\n",
       "      <td>2000.000000</td>\n",
       "      <td>2004.000000</td>\n",
       "      <td>166.000000</td>\n",
       "      <td>712.250000</td>\n",
       "      <td>...</td>\n",
       "      <td>576.000000</td>\n",
       "      <td>168.000000</td>\n",
       "      <td>68.000000</td>\n",
       "      <td>0.000000</td>\n",
       "      <td>0.000000</td>\n",
       "      <td>0.000000</td>\n",
       "      <td>0.000000</td>\n",
       "      <td>0.000000</td>\n",
       "      <td>8.000000</td>\n",
       "      <td>2009.000000</td>\n",
       "    </tr>\n",
       "    <tr>\n",
       "      <th>max</th>\n",
       "      <td>1460.000000</td>\n",
       "      <td>190.000000</td>\n",
       "      <td>313.000000</td>\n",
       "      <td>215245.000000</td>\n",
       "      <td>10.000000</td>\n",
       "      <td>9.000000</td>\n",
       "      <td>2010.000000</td>\n",
       "      <td>2010.000000</td>\n",
       "      <td>1600.000000</td>\n",
       "      <td>5644.000000</td>\n",
       "      <td>...</td>\n",
       "      <td>1418.000000</td>\n",
       "      <td>857.000000</td>\n",
       "      <td>547.000000</td>\n",
       "      <td>552.000000</td>\n",
       "      <td>508.000000</td>\n",
       "      <td>480.000000</td>\n",
       "      <td>738.000000</td>\n",
       "      <td>15500.000000</td>\n",
       "      <td>12.000000</td>\n",
       "      <td>2010.000000</td>\n",
       "    </tr>\n",
       "  </tbody>\n",
       "</table>\n",
       "<p>8 rows × 37 columns</p>\n",
       "</div>"
      ],
      "text/plain": [
       "                Id   MSSubClass  LotFrontage        LotArea  OverallQual  \\\n",
       "count  1460.000000  1460.000000  1201.000000    1460.000000  1460.000000   \n",
       "mean    730.500000    56.897260    70.049958   10516.828082     6.099315   \n",
       "std     421.610009    42.300571    24.284752    9981.264932     1.382997   \n",
       "min       1.000000    20.000000    21.000000    1300.000000     1.000000   \n",
       "25%     365.750000    20.000000    59.000000    7553.500000     5.000000   \n",
       "50%     730.500000    50.000000    69.000000    9478.500000     6.000000   \n",
       "75%    1095.250000    70.000000    80.000000   11601.500000     7.000000   \n",
       "max    1460.000000   190.000000   313.000000  215245.000000    10.000000   \n",
       "\n",
       "       OverallCond    YearBuilt  YearRemodAdd   MasVnrArea   BsmtFinSF1  ...  \\\n",
       "count  1460.000000  1460.000000   1460.000000  1452.000000  1460.000000  ...   \n",
       "mean      5.575342  1971.267808   1984.865753   103.685262   443.639726  ...   \n",
       "std       1.112799    30.202904     20.645407   181.066207   456.098091  ...   \n",
       "min       1.000000  1872.000000   1950.000000     0.000000     0.000000  ...   \n",
       "25%       5.000000  1954.000000   1967.000000     0.000000     0.000000  ...   \n",
       "50%       5.000000  1973.000000   1994.000000     0.000000   383.500000  ...   \n",
       "75%       6.000000  2000.000000   2004.000000   166.000000   712.250000  ...   \n",
       "max       9.000000  2010.000000   2010.000000  1600.000000  5644.000000  ...   \n",
       "\n",
       "        GarageArea   WoodDeckSF  OpenPorchSF  EnclosedPorch    3SsnPorch  \\\n",
       "count  1460.000000  1460.000000  1460.000000    1460.000000  1460.000000   \n",
       "mean    472.980137    94.244521    46.660274      21.954110     3.409589   \n",
       "std     213.804841   125.338794    66.256028      61.119149    29.317331   \n",
       "min       0.000000     0.000000     0.000000       0.000000     0.000000   \n",
       "25%     334.500000     0.000000     0.000000       0.000000     0.000000   \n",
       "50%     480.000000     0.000000    25.000000       0.000000     0.000000   \n",
       "75%     576.000000   168.000000    68.000000       0.000000     0.000000   \n",
       "max    1418.000000   857.000000   547.000000     552.000000   508.000000   \n",
       "\n",
       "       ScreenPorch     PoolArea       MiscVal       MoSold       YrSold  \n",
       "count  1460.000000  1460.000000   1460.000000  1460.000000  1460.000000  \n",
       "mean     15.060959     2.758904     43.489041     6.321918  2007.815753  \n",
       "std      55.757415    40.177307    496.123024     2.703626     1.328095  \n",
       "min       0.000000     0.000000      0.000000     1.000000  2006.000000  \n",
       "25%       0.000000     0.000000      0.000000     5.000000  2007.000000  \n",
       "50%       0.000000     0.000000      0.000000     6.000000  2008.000000  \n",
       "75%       0.000000     0.000000      0.000000     8.000000  2009.000000  \n",
       "max     480.000000   738.000000  15500.000000    12.000000  2010.000000  \n",
       "\n",
       "[8 rows x 37 columns]"
      ]
     },
     "execution_count": 7,
     "metadata": {},
     "output_type": "execute_result"
    }
   ],
   "source": [
    "train.describe()"
   ]
  },
  {
   "cell_type": "markdown",
   "metadata": {},
   "source": [
    "#### Remaking probability distribution of target to bell curved type"
   ]
  },
  {
   "cell_type": "code",
   "execution_count": 8,
   "metadata": {},
   "outputs": [
    {
     "data": {
      "image/png": "[encoded data removed]",
      "text/plain": [
       "<Figure size 432x288 with 1 Axes>"
      ]
     },
     "metadata": {
      "needs_background": "light"
     },
     "output_type": "display_data"
    }
   ],
   "source": [
    "plt.hist(y)\n",
    "plt.show()"
   ]
  },
  {
   "cell_type": "code",
   "execution_count": 9,
   "metadata": {},
   "outputs": [
    {
     "data": {
      "image/png": "[encoded data removed]",
      "text/plain": [
       "<Figure size 432x288 with 1 Axes>"
      ]
     },
     "metadata": {
      "needs_background": "light"
     },
     "output_type": "display_data"
    }
   ],
   "source": [
    "target = np.log(y)\n",
    "plt.hist(target)\n",
    "plt.show()"
   ]
  },
  {
   "cell_type": "markdown",
   "metadata": {},
   "source": [
    "#### Exploring categorical features"
   ]
  },
  {
   "cell_type": "code",
   "execution_count": 10,
   "metadata": {},
   "outputs": [],
   "source": [
    "cat_cols = train.select_dtypes(include='object').columns"
   ]
  },
  {
   "cell_type": "code",
   "execution_count": 11,
   "metadata": {},
   "outputs": [
    {
     "name": "stdout",
     "output_type": "stream",
     "text": [
      "Number of categorical features: 43,\n",
      "List of features: ['MSZoning' 'Street' 'Alley' 'LotShape' 'LandContour' 'Utilities'\n",
      " 'LotConfig' 'LandSlope' 'Neighborhood' 'Condition1' 'Condition2'\n",
      " 'BldgType' 'HouseStyle' 'RoofStyle' 'RoofMatl' 'Exterior1st'\n",
      " 'Exterior2nd' 'MasVnrType' 'ExterQual' 'ExterCond' 'Foundation'\n",
      " 'BsmtQual' 'BsmtCond' 'BsmtExposure' 'BsmtFinType1' 'BsmtFinType2'\n",
      " 'Heating' 'HeatingQC' 'CentralAir' 'Electrical' 'KitchenQual'\n",
      " 'Functional' 'FireplaceQu' 'GarageType' 'GarageFinish' 'GarageQual'\n",
      " 'GarageCond' 'PavedDrive' 'PoolQC' 'Fence' 'MiscFeature' 'SaleType'\n",
      " 'SaleCondition']\n"
     ]
    }
   ],
   "source": [
    "print(f'Number of categorical features: {len(cat_cols)},\\nList of features: {cat_cols.values}') "
   ]
  },
  {
   "cell_type": "markdown",
   "metadata": {},
   "source": [
    "#### Label encoding"
   ]
  },
  {
   "cell_type": "code",
   "execution_count": 12,
   "metadata": {},
   "outputs": [],
   "source": [
    "def label_encoding(train, test, columns):\n",
    "    for col in columns:\n",
    "        train[col] = train[col].fillna(-1)#filling missing values with -1\n",
    "        test[col] = test[col].fillna(-1)#filling missing values with -1\n",
    "        encoder = LabelEncoder()\n",
    "        encoder.fit(train[col][train[col] != -1].astype(str))\n",
    "        train[col][train[col] != -1] = encoder.transform(train[col][train[col] != -1].astype(str))#encoding only not missing values\n",
    "        test[col][test[col] != -1] = encoder.transform(test[col][test[col] != -1].astype(str))#encoding only not missing values\n",
    "        keys = encoder.classes_\n",
    "        values = encoder.transform(encoder.classes_)\n",
    "        dictionary = dict(zip(keys, values))\n",
    "        print(f'Column: {col}, values: {dictionary}')\n",
    "    return train, test"
   ]
  },
  {
   "cell_type": "code",
   "execution_count": 13,
   "metadata": {
    "scrolled": false
   },
   "outputs": [
    {
     "name": "stdout",
     "output_type": "stream",
     "text": [
      "Column: MSZoning, values: {'C (all)': 0, 'FV': 1, 'RH': 2, 'RL': 3, 'RM': 4}\n",
      "Column: Street, values: {'Grvl': 0, 'Pave': 1}\n",
      "Column: Alley, values: {'Grvl': 0, 'Pave': 1}\n",
      "Column: LotShape, values: {'IR1': 0, 'IR2': 1, 'IR3': 2, 'Reg': 3}\n",
      "Column: LandContour, values: {'Bnk': 0, 'HLS': 1, 'Low': 2, 'Lvl': 3}\n",
      "Column: Utilities, values: {'AllPub': 0, 'NoSeWa': 1}\n",
      "Column: LotConfig, values: {'Corner': 0, 'CulDSac': 1, 'FR2': 2, 'FR3': 3, 'Inside': 4}\n",
      "Column: LandSlope, values: {'Gtl': 0, 'Mod': 1, 'Sev': 2}\n",
      "Column: Neighborhood, values: {'Blmngtn': 0, 'Blueste': 1, 'BrDale': 2, 'BrkSide': 3, 'ClearCr': 4, 'CollgCr': 5, 'Crawfor': 6, 'Edwards': 7, 'Gilbert': 8, 'IDOTRR': 9, 'MeadowV': 10, 'Mitchel': 11, 'NAmes': 12, 'NPkVill': 13, 'NWAmes': 14, 'NoRidge': 15, 'NridgHt': 16, 'OldTown': 17, 'SWISU': 18, 'Sawyer': 19, 'SawyerW': 20, 'Somerst': 21, 'StoneBr': 22, 'Timber': 23, 'Veenker': 24}\n",
      "Column: Condition1, values: {'Artery': 0, 'Feedr': 1, 'Norm': 2, 'PosA': 3, 'PosN': 4, 'RRAe': 5, 'RRAn': 6, 'RRNe': 7, 'RRNn': 8}\n",
      "Column: Condition2, values: {'Artery': 0, 'Feedr': 1, 'Norm': 2, 'PosA': 3, 'PosN': 4, 'RRAe': 5, 'RRAn': 6, 'RRNn': 7}\n",
      "Column: BldgType, values: {'1Fam': 0, '2fmCon': 1, 'Duplex': 2, 'Twnhs': 3, 'TwnhsE': 4}\n",
      "Column: HouseStyle, values: {'1.5Fin': 0, '1.5Unf': 1, '1Story': 2, '2.5Fin': 3, '2.5Unf': 4, '2Story': 5, 'SFoyer': 6, 'SLvl': 7}\n",
      "Column: RoofStyle, values: {'Flat': 0, 'Gable': 1, 'Gambrel': 2, 'Hip': 3, 'Mansard': 4, 'Shed': 5}\n",
      "Column: RoofMatl, values: {'ClyTile': 0, 'CompShg': 1, 'Membran': 2, 'Metal': 3, 'Roll': 4, 'Tar&Grv': 5, 'WdShake': 6, 'WdShngl': 7}\n",
      "Column: Exterior1st, values: {'AsbShng': 0, 'AsphShn': 1, 'BrkComm': 2, 'BrkFace': 3, 'CBlock': 4, 'CemntBd': 5, 'HdBoard': 6, 'ImStucc': 7, 'MetalSd': 8, 'Plywood': 9, 'Stone': 10, 'Stucco': 11, 'VinylSd': 12, 'Wd Sdng': 13, 'WdShing': 14}\n",
      "Column: Exterior2nd, values: {'AsbShng': 0, 'AsphShn': 1, 'Brk Cmn': 2, 'BrkFace': 3, 'CBlock': 4, 'CmentBd': 5, 'HdBoard': 6, 'ImStucc': 7, 'MetalSd': 8, 'Other': 9, 'Plywood': 10, 'Stone': 11, 'Stucco': 12, 'VinylSd': 13, 'Wd Sdng': 14, 'Wd Shng': 15}\n",
      "Column: MasVnrType, values: {'BrkCmn': 0, 'BrkFace': 1, 'None': 2, 'Stone': 3}\n",
      "Column: ExterQual, values: {'Ex': 0, 'Fa': 1, 'Gd': 2, 'TA': 3}\n",
      "Column: ExterCond, values: {'Ex': 0, 'Fa': 1, 'Gd': 2, 'Po': 3, 'TA': 4}\n"
     ]
    },
    {
     "name": "stderr",
     "output_type": "stream",
     "text": [
      "/Users/nikkirpa/opt/anaconda3/lib/python3.7/site-packages/ipykernel_launcher.py:7: SettingWithCopyWarning: \n",
      "A value is trying to be set on a copy of a slice from a DataFrame\n",
      "\n",
      "See the caveats in the documentation: https://pandas.pydata.org/pandas-docs/stable/user_guide/indexing.html#returning-a-view-versus-a-copy\n",
      "  import sys\n",
      "/Users/nikkirpa/opt/anaconda3/lib/python3.7/site-packages/ipykernel_launcher.py:8: SettingWithCopyWarning: \n",
      "A value is trying to be set on a copy of a slice from a DataFrame\n",
      "\n",
      "See the caveats in the documentation: https://pandas.pydata.org/pandas-docs/stable/user_guide/indexing.html#returning-a-view-versus-a-copy\n",
      "  \n"
     ]
    },
    {
     "name": "stdout",
     "output_type": "stream",
     "text": [
      "Column: Foundation, values: {'BrkTil': 0, 'CBlock': 1, 'PConc': 2, 'Slab': 3, 'Stone': 4, 'Wood': 5}\n",
      "Column: BsmtQual, values: {'Ex': 0, 'Fa': 1, 'Gd': 2, 'TA': 3}\n",
      "Column: BsmtCond, values: {'Fa': 0, 'Gd': 1, 'Po': 2, 'TA': 3}\n",
      "Column: BsmtExposure, values: {'Av': 0, 'Gd': 1, 'Mn': 2, 'No': 3}\n",
      "Column: BsmtFinType1, values: {'ALQ': 0, 'BLQ': 1, 'GLQ': 2, 'LwQ': 3, 'Rec': 4, 'Unf': 5}\n",
      "Column: BsmtFinType2, values: {'ALQ': 0, 'BLQ': 1, 'GLQ': 2, 'LwQ': 3, 'Rec': 4, 'Unf': 5}\n",
      "Column: Heating, values: {'Floor': 0, 'GasA': 1, 'GasW': 2, 'Grav': 3, 'OthW': 4, 'Wall': 5}\n",
      "Column: HeatingQC, values: {'Ex': 0, 'Fa': 1, 'Gd': 2, 'Po': 3, 'TA': 4}\n",
      "Column: CentralAir, values: {'N': 0, 'Y': 1}\n",
      "Column: Electrical, values: {'FuseA': 0, 'FuseF': 1, 'FuseP': 2, 'Mix': 3, 'SBrkr': 4}\n",
      "Column: KitchenQual, values: {'Ex': 0, 'Fa': 1, 'Gd': 2, 'TA': 3}\n",
      "Column: Functional, values: {'Maj1': 0, 'Maj2': 1, 'Min1': 2, 'Min2': 3, 'Mod': 4, 'Sev': 5, 'Typ': 6}\n",
      "Column: FireplaceQu, values: {'Ex': 0, 'Fa': 1, 'Gd': 2, 'Po': 3, 'TA': 4}\n",
      "Column: GarageType, values: {'2Types': 0, 'Attchd': 1, 'Basment': 2, 'BuiltIn': 3, 'CarPort': 4, 'Detchd': 5}\n",
      "Column: GarageFinish, values: {'Fin': 0, 'RFn': 1, 'Unf': 2}\n",
      "Column: GarageQual, values: {'Ex': 0, 'Fa': 1, 'Gd': 2, 'Po': 3, 'TA': 4}\n",
      "Column: GarageCond, values: {'Ex': 0, 'Fa': 1, 'Gd': 2, 'Po': 3, 'TA': 4}\n",
      "Column: PavedDrive, values: {'N': 0, 'P': 1, 'Y': 2}\n",
      "Column: PoolQC, values: {'Ex': 0, 'Fa': 1, 'Gd': 2}\n",
      "Column: Fence, values: {'GdPrv': 0, 'GdWo': 1, 'MnPrv': 2, 'MnWw': 3}\n",
      "Column: MiscFeature, values: {'Gar2': 0, 'Othr': 1, 'Shed': 2, 'TenC': 3}\n",
      "Column: SaleType, values: {'COD': 0, 'CWD': 1, 'Con': 2, 'ConLD': 3, 'ConLI': 4, 'ConLw': 5, 'New': 6, 'Oth': 7, 'WD': 8}\n",
      "Column: SaleCondition, values: {'Abnorml': 0, 'AdjLand': 1, 'Alloca': 2, 'Family': 3, 'Normal': 4, 'Partial': 5}\n"
     ]
    }
   ],
   "source": [
    "train, test = label_encoding(train, test, cat_cols)"
   ]
  },
  {
   "cell_type": "markdown",
   "metadata": {},
   "source": [
    "#### Deal with missing values"
   ]
  },
  {
   "cell_type": "code",
   "execution_count": 15,
   "metadata": {},
   "outputs": [],
   "source": [
    "num_col = train.select_dtypes(include = np.number).columns.tolist()"
   ]
  },
  {
   "cell_type": "code",
   "execution_count": 16,
   "metadata": {},
   "outputs": [],
   "source": [
    "def fill_zeros(train, test, columns):\n",
    "    for col in columns:\n",
    "        train[col].fillna(train[col].mean(), inplace=True)\n",
    "        test[col].fillna(test[col].mean(), inplace=True)\n",
    "    return train, test"
   ]
  },
  {
   "cell_type": "code",
   "execution_count": 17,
   "metadata": {},
   "outputs": [],
   "source": [
    "train, test = fill_zeros(train, test, num_col)"
   ]
  },
  {
   "cell_type": "markdown",
   "metadata": {},
   "source": [
    "#### Dividing to train and validation sets"
   ]
  },
  {
   "cell_type": "code",
   "execution_count": 18,
   "metadata": {},
   "outputs": [],
   "source": [
    "train, val_set, target, val_target = train_test_split(train, target, random_state=1, test_size=0.2)"
   ]
  },
  {
   "cell_type": "code",
   "execution_count": 19,
   "metadata": {},
   "outputs": [],
   "source": [
    "scaler = MinMaxScaler(feature_range=(0, 1))\n",
    "scaler.fit(train)\n",
    "train_scaled = scaler.transform(train)\n",
    "test_scaled = scaler.transform(test)\n",
    "val_set_scaled = scaler.transform(val_set)\n",
    "val_target = val_target.to_numpy()\n",
    "target = target.to_numpy()"
   ]
  },
  {
   "cell_type": "markdown",
   "metadata": {},
   "source": [
    "Defining train validation method and sci-kit optimise"
   ]
  },
  {
   "cell_type": "markdown",
   "metadata": {},
   "source": [
    "## Descision Tree\n",
    "I'am initializing descision tree regressor for finding best features in dataset"
   ]
  },
  {
   "cell_type": "markdown",
   "metadata": {},
   "source": [
    "#### Hyperparameters tuning using GridSearch"
   ]
  },
  {
   "cell_type": "code",
   "execution_count": 20,
   "metadata": {},
   "outputs": [
    {
     "data": {
      "text/plain": [
       "GridSearchCV(cv=5, error_score=nan,\n",
       "             estimator=DecisionTreeRegressor(ccp_alpha=0.0, criterion='mse',\n",
       "                                             max_depth=None, max_features=None,\n",
       "                                             max_leaf_nodes=None,\n",
       "                                             min_impurity_decrease=0.0,\n",
       "                                             min_impurity_split=None,\n",
       "                                             min_samples_leaf=1,\n",
       "                                             min_samples_split=2,\n",
       "                                             min_weight_fraction_leaf=0.0,\n",
       "                                             presort='deprecated',\n",
       "                                             random_state=42, splitter='best'),\n",
       "             iid='deprecated', n_jobs=-1,\n",
       "             param_grid={'max_depth': [1, 2, 5, 10, 20, 25, 30],\n",
       "                         'max_features': [1.0, 0.9, 0.8, 0.7, 0.6],\n",
       "                         'min_samples_leaf': [1, 5, 10, 15, 20, 30]},\n",
       "             pre_dispatch='2*n_jobs', refit=True, return_train_score=False,\n",
       "             scoring='neg_mean_absolute_error', verbose=0)"
      ]
     },
     "execution_count": 20,
     "metadata": {},
     "output_type": "execute_result"
    }
   ],
   "source": [
    "param_grid = {\n",
    "              \"max_depth\": [1, 2, 5, 10, 20, 25, 30],\n",
    "              \"min_samples_leaf\": [1, 5, 10, 15, 20, 30],\n",
    "              \"max_features\": [1.0, 0.9, 0.8, 0.7, 0.6]\n",
    "              }\n",
    "\n",
    "model_tree = DecisionTreeRegressor(random_state=42)\n",
    "\n",
    "grid_search = GridSearchCV(model_tree,param_grid=param_grid,cv=5, scoring='neg_mean_absolute_error', n_jobs=-1)\n",
    "\n",
    "grid_search.fit(train_scaled, target)"
   ]
  },
  {
   "cell_type": "code",
   "execution_count": 21,
   "metadata": {},
   "outputs": [
    {
     "data": {
      "text/plain": [
       "({'max_depth': 10, 'max_features': 0.9, 'min_samples_leaf': 10},\n",
       " -0.13583385516274157)"
      ]
     },
     "execution_count": 21,
     "metadata": {},
     "output_type": "execute_result"
    }
   ],
   "source": [
    "grid_search.best_params_, grid_search.best_score_"
   ]
  },
  {
   "cell_type": "code",
   "execution_count": 22,
   "metadata": {},
   "outputs": [],
   "source": [
    "model_tree = grid_search.best_estimator_"
   ]
  },
  {
   "cell_type": "markdown",
   "metadata": {},
   "source": [
    "Getting best model"
   ]
  },
  {
   "cell_type": "code",
   "execution_count": 23,
   "metadata": {},
   "outputs": [
    {
     "data": {
      "image/png": "[encoded data removed]",
      "text/plain": [
       "<Figure size 1440x1800 with 1 Axes>"
      ]
     },
     "metadata": {
      "needs_background": "light"
     },
     "output_type": "display_data"
    }
   ],
   "source": [
    "fig = plt.figure(figsize=(20,25))\n",
    "_ = tree.plot_tree(model_tree, \n",
    "                   feature_names=cols,  \n",
    "                   filled=True)"
   ]
  },
  {
   "cell_type": "markdown",
   "metadata": {},
   "source": [
    "Tree visualization"
   ]
  },
  {
   "cell_type": "markdown",
   "metadata": {},
   "source": [
    "Losses for decision tree"
   ]
  },
  {
   "cell_type": "code",
   "execution_count": 24,
   "metadata": {},
   "outputs": [
    {
     "name": "stdout",
     "output_type": "stream",
     "text": [
      " MAE of validation set: 25527.108514416625 \n",
      " MAE of train set: 16620.40999676617 \n",
      " MSE of validation set: 40962.43792224009 \n",
      " MSE of train set: 27273.09102269542\n"
     ]
    }
   ],
   "source": [
    "print(f' MAE of validation set: {mean_absolute_error(np.exp(val_target), np.exp(model_tree.predict(val_set_scaled)))}',\n",
    "      '\\n', f'MAE of train set: {mean_absolute_error(np.exp(target), np.exp(model_tree.predict(train_scaled)))}',\n",
    "      '\\n', \n",
    "      f'MSE of validation set: {mean_squared_error(np.exp(val_target), np.exp(model_tree.predict(val_set_scaled)), squared = False)}',\n",
    "      '\\n', f'MSE of train set: {mean_squared_error(np.exp(target), np.exp(model_tree.predict(train_scaled)), squared = False)}')"
   ]
  },
  {
   "cell_type": "markdown",
   "metadata": {},
   "source": [
    "### Important feature selection"
   ]
  },
  {
   "cell_type": "code",
   "execution_count": 25,
   "metadata": {},
   "outputs": [
    {
     "name": "stdout",
     "output_type": "stream",
     "text": [
      "OverallQual : 0.5392415730330166\n",
      "GarageCars : 0.17025444535451384\n",
      "GrLivArea : 0.0872968605268522\n",
      "1stFlrSF : 0.049318253539143944\n",
      "TotalBsmtSF : 0.03375022800238508\n",
      "YearBuilt : 0.021560946436544784\n",
      "BsmtFinSF1 : 0.0172020279182648\n",
      "OverallCond : 0.014717398660521052\n",
      "KitchenAbvGr : 0.011542896332456348\n",
      "CentralAir : 0.008119165505098985\n",
      "GarageType : 0.00747644392944918\n",
      "YearRemodAdd : 0.006754684579109742\n",
      "Neighborhood : 0.0055018130587350484\n",
      "Exterior1st : 0.0045993991240345835\n",
      "GarageFinish : 0.0045842105199216\n",
      "GarageArea : 0.003259232229528534\n",
      "LotArea : 0.0029242868363113825\n",
      "KitchenQual : 0.0029217443855787235\n",
      "WoodDeckSF : 0.0027632383696190106\n",
      "MSZoning : 0.0010630276213401085\n",
      "HalfBath : 0.0010191654735060977\n"
     ]
    }
   ],
   "source": [
    "dict_imp = dict(zip(cols, model_tree.feature_importances_))\n",
    "list_imp = list(dict_imp.items())\n",
    "list_imp.sort(key=lambda i: i[1], reverse=True)\n",
    "features = []\n",
    "for i in list_imp:\n",
    "    if i[1] > 0.001:\n",
    "        features.append(i[0])\n",
    "        print(i[0], ':', i[1])"
   ]
  },
  {
   "cell_type": "markdown",
   "metadata": {},
   "source": [
    "Choosin only important features from test, train and validation dataframes"
   ]
  },
  {
   "cell_type": "code",
   "execution_count": 26,
   "metadata": {},
   "outputs": [],
   "source": [
    "reversed_train = pd.DataFrame(train_scaled, columns=train.columns)[features].to_numpy()\n",
    "reversed_test = pd.DataFrame(test_scaled, columns=train.columns)[features].to_numpy()\n",
    "reversed_val = pd.DataFrame(val_set_scaled, columns=train.columns)[features].to_numpy()"
   ]
  },
  {
   "cell_type": "markdown",
   "metadata": {},
   "source": [
    "## LightGBM Regressor"
   ]
  },
  {
   "cell_type": "markdown",
   "metadata": {},
   "source": [
    "I've chosen lightgbm as best ensemble model for our task"
   ]
  },
  {
   "cell_type": "code",
   "execution_count": 27,
   "metadata": {},
   "outputs": [],
   "source": [
    "SPACE_lgbm = [\n",
    "    Real(0.001, 0.5, name='learning_rate', prior='log-uniform'),\n",
    "    Integer(1, 300, name='max_depth'),\n",
    "    Integer(2, 500, name='num_leaves'),\n",
    "    Integer(2, 1000, name='min_data_in_leaf'),\n",
    "    Real(0.1, 0.9, name='feature_fraction'),\n",
    "    Real(0.1, 0.9, name='bagging_fraction'),\n",
    "    Integer(1, 500, name='bagging_freq'),\n",
    "    Real(0.0, 10, name='min_gain_to_split'),\n",
    "    Integer(2, 500, name='max_bin'),\n",
    "    Real(0.1, 40, name='lambda_l1'),\n",
    "    Real(0.1, 40, name='lambda_l2'),\n",
    "    Real(1e-5, 25, name='min_sum_hessian_in_leaf'),\n",
    "    Categorical(['gbdt', 'rf'], name='boosting'),\n",
    "    Real(0.05, 1,name='pos_bagging_fraction'),\n",
    "    Real(0.05, 1,name='neg_bagging_fraction'),\n",
    "    Real(1e-5, 1,name='feature_fraction_bynode'),\n",
    "    Integer(2, 500, name='min_data_per_group'),\n",
    "    Integer(5, 150, name='max_cat_threshold'),\n",
    "    Real(1., 50.0, name='cat_l2'),\n",
    "    Real(1., 50.0, name='cat_smooth'),\n",
    "    Categorical([True, False], name='use_missing'),\n",
    "    Categorical(['l1', 'l2'], name='metric'),\n",
    "]"
   ]
  },
  {
   "cell_type": "code",
   "execution_count": 28,
   "metadata": {},
   "outputs": [],
   "source": [
    "model_lgbm = LGBMRegressor(random_state=42)\n",
    "@use_named_args(SPACE_lgbm)\n",
    "def objective(**params):\n",
    "    model_lgbm.set_params(**params)\n",
    "    return -np.mean(cross_val_score(model_lgbm, reversed_train, target, cv=5, n_jobs=-1,\n",
    "                                    scoring=\"neg_mean_absolute_error\"))"
   ]
  },
  {
   "cell_type": "markdown",
   "metadata": {},
   "source": [
    "### Hyperparameters tuning"
   ]
  },
  {
   "cell_type": "markdown",
   "metadata": {},
   "source": [
    "I've defined that Gaussian Processes is the best optimisation algorithm for this task"
   ]
  },
  {
   "cell_type": "code",
   "execution_count": 29,
   "metadata": {},
   "outputs": [
    {
     "name": "stdout",
     "output_type": "stream",
     "text": [
      "Iteration No: 1 started. Evaluating function at random point.\n",
      "Iteration No: 1 ended. Evaluation done at random point.\n",
      "Time taken: 1.6797\n",
      "Function value obtained: 12.0337\n",
      "Current minimum: 12.0337\n",
      "Iteration No: 2 started. Evaluating function at random point.\n",
      "Iteration No: 2 ended. Evaluation done at random point.\n",
      "Time taken: 0.0301\n",
      "Function value obtained: 12.0337\n",
      "Current minimum: 12.0337\n",
      "Iteration No: 3 started. Evaluating function at random point.\n",
      "Iteration No: 3 ended. Evaluation done at random point.\n",
      "Time taken: 0.0437\n",
      "Function value obtained: 12.0337\n",
      "Current minimum: 12.0337\n",
      "Iteration No: 4 started. Evaluating function at random point.\n",
      "Iteration No: 4 ended. Evaluation done at random point.\n",
      "Time taken: 0.0349\n",
      "Function value obtained: 12.0337\n",
      "Current minimum: 12.0337\n",
      "Iteration No: 5 started. Evaluating function at random point.\n",
      "Iteration No: 5 ended. Evaluation done at random point.\n",
      "Time taken: 0.0298\n",
      "Function value obtained: 12.0337\n",
      "Current minimum: 12.0337\n",
      "Iteration No: 6 started. Evaluating function at random point.\n",
      "Iteration No: 6 ended. Evaluation done at random point.\n",
      "Time taken: 0.0550\n",
      "Function value obtained: 12.0337\n",
      "Current minimum: 12.0337\n",
      "Iteration No: 7 started. Evaluating function at random point.\n",
      "Iteration No: 7 ended. Evaluation done at random point.\n",
      "Time taken: 0.0386\n",
      "Function value obtained: 12.0337\n",
      "Current minimum: 12.0337\n",
      "Iteration No: 8 started. Evaluating function at random point.\n",
      "Iteration No: 8 ended. Evaluation done at random point.\n",
      "Time taken: 0.0317\n",
      "Function value obtained: 12.0337\n",
      "Current minimum: 12.0337\n",
      "Iteration No: 9 started. Evaluating function at random point.\n",
      "Iteration No: 9 ended. Evaluation done at random point.\n",
      "Time taken: 0.0286\n",
      "Function value obtained: 0.3069\n",
      "Current minimum: 0.3069\n",
      "Iteration No: 10 started. Evaluating function at random point.\n",
      "Iteration No: 10 ended. Evaluation done at random point.\n",
      "Time taken: 0.8359\n",
      "Function value obtained: 0.3069\n",
      "Current minimum: 0.3069\n",
      "Iteration No: 11 started. Searching for the next optimal point.\n",
      "Iteration No: 11 ended. Search finished for the next optimal point.\n",
      "Time taken: 0.7336\n",
      "Function value obtained: 0.3040\n",
      "Current minimum: 0.3040\n",
      "Iteration No: 12 started. Searching for the next optimal point.\n",
      "Iteration No: 12 ended. Search finished for the next optimal point.\n",
      "Time taken: 0.7179\n",
      "Function value obtained: 0.3069\n",
      "Current minimum: 0.3040\n",
      "Iteration No: 13 started. Searching for the next optimal point.\n",
      "Iteration No: 13 ended. Search finished for the next optimal point.\n",
      "Time taken: 0.7005\n",
      "Function value obtained: 0.3069\n",
      "Current minimum: 0.3040\n",
      "Iteration No: 14 started. Searching for the next optimal point.\n",
      "Iteration No: 14 ended. Search finished for the next optimal point.\n",
      "Time taken: 0.8020\n",
      "Function value obtained: 0.2965\n",
      "Current minimum: 0.2965\n",
      "Iteration No: 15 started. Searching for the next optimal point.\n",
      "Iteration No: 15 ended. Search finished for the next optimal point.\n",
      "Time taken: 0.7782\n",
      "Function value obtained: 0.3069\n",
      "Current minimum: 0.2965\n",
      "Iteration No: 16 started. Searching for the next optimal point.\n",
      "Iteration No: 16 ended. Search finished for the next optimal point.\n",
      "Time taken: 0.9315\n",
      "Function value obtained: 0.1673\n",
      "Current minimum: 0.1673\n",
      "Iteration No: 17 started. Searching for the next optimal point.\n",
      "Iteration No: 17 ended. Search finished for the next optimal point.\n",
      "Time taken: 0.8485\n",
      "Function value obtained: 0.3069\n",
      "Current minimum: 0.1673\n",
      "Iteration No: 18 started. Searching for the next optimal point.\n",
      "Iteration No: 18 ended. Search finished for the next optimal point.\n",
      "Time taken: 0.8464\n",
      "Function value obtained: 0.3069\n",
      "Current minimum: 0.1673\n",
      "Iteration No: 19 started. Searching for the next optimal point.\n",
      "Iteration No: 19 ended. Search finished for the next optimal point.\n",
      "Time taken: 0.8486\n",
      "Function value obtained: 0.2978\n",
      "Current minimum: 0.1673\n",
      "Iteration No: 20 started. Searching for the next optimal point.\n",
      "Iteration No: 20 ended. Search finished for the next optimal point.\n",
      "Time taken: 0.9686\n",
      "Function value obtained: 0.3069\n",
      "Current minimum: 0.1673\n",
      "Iteration No: 21 started. Searching for the next optimal point.\n",
      "Iteration No: 21 ended. Search finished for the next optimal point.\n",
      "Time taken: 0.9904\n",
      "Function value obtained: 0.3069\n",
      "Current minimum: 0.1673\n",
      "Iteration No: 22 started. Searching for the next optimal point.\n",
      "Iteration No: 22 ended. Search finished for the next optimal point.\n",
      "Time taken: 1.0414\n",
      "Function value obtained: 0.1119\n",
      "Current minimum: 0.1119\n",
      "Iteration No: 23 started. Searching for the next optimal point.\n",
      "Iteration No: 23 ended. Search finished for the next optimal point.\n",
      "Time taken: 0.8958\n",
      "Function value obtained: 0.1757\n",
      "Current minimum: 0.1119\n",
      "Iteration No: 24 started. Searching for the next optimal point.\n",
      "Iteration No: 24 ended. Search finished for the next optimal point.\n",
      "Time taken: 1.0483\n",
      "Function value obtained: 0.1123\n",
      "Current minimum: 0.1119\n",
      "Iteration No: 25 started. Searching for the next optimal point.\n",
      "Iteration No: 25 ended. Search finished for the next optimal point.\n",
      "Time taken: 1.1052\n",
      "Function value obtained: 0.1123\n",
      "Current minimum: 0.1119\n",
      "Iteration No: 26 started. Searching for the next optimal point.\n",
      "Iteration No: 26 ended. Search finished for the next optimal point.\n",
      "Time taken: 1.3354\n",
      "Function value obtained: 0.1129\n",
      "Current minimum: 0.1119\n",
      "Iteration No: 27 started. Searching for the next optimal point.\n",
      "Iteration No: 27 ended. Search finished for the next optimal point.\n",
      "Time taken: 1.0578\n",
      "Function value obtained: 0.2976\n",
      "Current minimum: 0.1119\n",
      "Iteration No: 28 started. Searching for the next optimal point.\n",
      "Iteration No: 28 ended. Search finished for the next optimal point.\n",
      "Time taken: 1.1139\n",
      "Function value obtained: 0.2327\n",
      "Current minimum: 0.1119\n",
      "Iteration No: 29 started. Searching for the next optimal point.\n",
      "Iteration No: 29 ended. Search finished for the next optimal point.\n",
      "Time taken: 1.0587\n",
      "Function value obtained: 0.1485\n",
      "Current minimum: 0.1119\n",
      "Iteration No: 30 started. Searching for the next optimal point.\n",
      "Iteration No: 30 ended. Search finished for the next optimal point.\n",
      "Time taken: 1.0352\n",
      "Function value obtained: 0.1123\n",
      "Current minimum: 0.1119\n",
      "Iteration No: 31 started. Searching for the next optimal point.\n",
      "Iteration No: 31 ended. Search finished for the next optimal point.\n",
      "Time taken: 0.9022\n",
      "Function value obtained: 0.1132\n",
      "Current minimum: 0.1119\n",
      "Iteration No: 32 started. Searching for the next optimal point.\n",
      "Iteration No: 32 ended. Search finished for the next optimal point.\n",
      "Time taken: 0.8891\n",
      "Function value obtained: 0.1123\n",
      "Current minimum: 0.1119\n",
      "Iteration No: 33 started. Searching for the next optimal point.\n",
      "Iteration No: 33 ended. Search finished for the next optimal point.\n",
      "Time taken: 0.9923\n",
      "Function value obtained: 0.1132\n",
      "Current minimum: 0.1119\n",
      "Iteration No: 34 started. Searching for the next optimal point.\n",
      "Iteration No: 34 ended. Search finished for the next optimal point.\n",
      "Time taken: 1.0179\n",
      "Function value obtained: 0.1132\n",
      "Current minimum: 0.1119\n",
      "Iteration No: 35 started. Searching for the next optimal point.\n",
      "Iteration No: 35 ended. Search finished for the next optimal point.\n",
      "Time taken: 0.9076\n",
      "Function value obtained: 0.1321\n",
      "Current minimum: 0.1119\n",
      "Iteration No: 36 started. Searching for the next optimal point.\n",
      "Iteration No: 36 ended. Search finished for the next optimal point.\n",
      "Time taken: 1.0589\n",
      "Function value obtained: 0.3069\n",
      "Current minimum: 0.1119\n",
      "Iteration No: 37 started. Searching for the next optimal point.\n"
     ]
    },
    {
     "name": "stderr",
     "output_type": "stream",
     "text": [
      "/Users/nikkirpa/opt/anaconda3/lib/python3.7/site-packages/skopt/optimizer/optimizer.py:449: UserWarning: The objective has been evaluated at this point before.\n",
      "  warnings.warn(\"The objective has been evaluated \"\n"
     ]
    },
    {
     "name": "stdout",
     "output_type": "stream",
     "text": [
      "Iteration No: 37 ended. Search finished for the next optimal point.\n",
      "Time taken: 1.2952\n",
      "Function value obtained: 0.1123\n",
      "Current minimum: 0.1119\n",
      "Iteration No: 38 started. Searching for the next optimal point.\n",
      "Iteration No: 38 ended. Search finished for the next optimal point.\n",
      "Time taken: 1.0950\n",
      "Function value obtained: 0.1194\n",
      "Current minimum: 0.1119\n",
      "Iteration No: 39 started. Searching for the next optimal point.\n",
      "Iteration No: 39 ended. Search finished for the next optimal point.\n",
      "Time taken: 1.1309\n",
      "Function value obtained: 0.3069\n",
      "Current minimum: 0.1119\n",
      "Iteration No: 40 started. Searching for the next optimal point.\n",
      "Iteration No: 40 ended. Search finished for the next optimal point.\n",
      "Time taken: 1.2029\n",
      "Function value obtained: 0.1123\n",
      "Current minimum: 0.1119\n",
      "Iteration No: 41 started. Searching for the next optimal point.\n",
      "Iteration No: 41 ended. Search finished for the next optimal point.\n",
      "Time taken: 1.3526\n",
      "Function value obtained: 0.1077\n",
      "Current minimum: 0.1077\n",
      "Iteration No: 42 started. Searching for the next optimal point.\n",
      "Iteration No: 42 ended. Search finished for the next optimal point.\n",
      "Time taken: 1.3715\n",
      "Function value obtained: 0.1069\n",
      "Current minimum: 0.1069\n",
      "Iteration No: 43 started. Searching for the next optimal point.\n",
      "Iteration No: 43 ended. Search finished for the next optimal point.\n",
      "Time taken: 1.1851\n",
      "Function value obtained: 0.3069\n",
      "Current minimum: 0.1069\n",
      "Iteration No: 44 started. Searching for the next optimal point.\n",
      "Iteration No: 44 ended. Search finished for the next optimal point.\n",
      "Time taken: 1.2789\n",
      "Function value obtained: 0.1296\n",
      "Current minimum: 0.1069\n",
      "Iteration No: 45 started. Searching for the next optimal point.\n",
      "Iteration No: 45 ended. Search finished for the next optimal point.\n",
      "Time taken: 1.3540\n",
      "Function value obtained: 0.1123\n",
      "Current minimum: 0.1069\n",
      "Iteration No: 46 started. Searching for the next optimal point.\n",
      "Iteration No: 46 ended. Search finished for the next optimal point.\n",
      "Time taken: 1.6689\n",
      "Function value obtained: 0.1120\n",
      "Current minimum: 0.1069\n",
      "Iteration No: 47 started. Searching for the next optimal point.\n",
      "Iteration No: 47 ended. Search finished for the next optimal point.\n",
      "Time taken: 1.0594\n",
      "Function value obtained: 0.3069\n",
      "Current minimum: 0.1069\n",
      "Iteration No: 48 started. Searching for the next optimal point.\n",
      "Iteration No: 48 ended. Search finished for the next optimal point.\n",
      "Time taken: 1.0801\n",
      "Function value obtained: 0.1025\n",
      "Current minimum: 0.1025\n",
      "Iteration No: 49 started. Searching for the next optimal point.\n",
      "Iteration No: 49 ended. Search finished for the next optimal point.\n",
      "Time taken: 1.0432\n",
      "Function value obtained: 0.3069\n",
      "Current minimum: 0.1025\n",
      "Iteration No: 50 started. Searching for the next optimal point.\n",
      "Iteration No: 50 ended. Search finished for the next optimal point.\n",
      "Time taken: 1.0861\n",
      "Function value obtained: 0.3069\n",
      "Current minimum: 0.1025\n",
      "Iteration No: 51 started. Searching for the next optimal point.\n",
      "Iteration No: 51 ended. Search finished for the next optimal point.\n",
      "Time taken: 1.5189\n",
      "Function value obtained: 0.1184\n",
      "Current minimum: 0.1025\n",
      "Iteration No: 52 started. Searching for the next optimal point.\n",
      "Iteration No: 52 ended. Search finished for the next optimal point.\n",
      "Time taken: 1.5493\n",
      "Function value obtained: 0.1139\n",
      "Current minimum: 0.1025\n",
      "Iteration No: 53 started. Searching for the next optimal point.\n",
      "Iteration No: 53 ended. Search finished for the next optimal point.\n",
      "Time taken: 1.4102\n",
      "Function value obtained: 0.1480\n",
      "Current minimum: 0.1025\n",
      "Iteration No: 54 started. Searching for the next optimal point.\n",
      "Iteration No: 54 ended. Search finished for the next optimal point.\n",
      "Time taken: 1.6010\n",
      "Function value obtained: 0.1152\n",
      "Current minimum: 0.1025\n",
      "Iteration No: 55 started. Searching for the next optimal point.\n",
      "Iteration No: 55 ended. Search finished for the next optimal point.\n",
      "Time taken: 1.7537\n",
      "Function value obtained: 0.1492\n",
      "Current minimum: 0.1025\n",
      "Iteration No: 56 started. Searching for the next optimal point.\n",
      "Iteration No: 56 ended. Search finished for the next optimal point.\n",
      "Time taken: 1.4877\n",
      "Function value obtained: 0.3069\n",
      "Current minimum: 0.1025\n",
      "Iteration No: 57 started. Searching for the next optimal point.\n",
      "Iteration No: 57 ended. Search finished for the next optimal point.\n",
      "Time taken: 1.8553\n",
      "Function value obtained: 0.1064\n",
      "Current minimum: 0.1025\n",
      "Iteration No: 58 started. Searching for the next optimal point.\n",
      "Iteration No: 58 ended. Search finished for the next optimal point.\n",
      "Time taken: 1.5651\n",
      "Function value obtained: 0.1076\n",
      "Current minimum: 0.1025\n",
      "Iteration No: 59 started. Searching for the next optimal point.\n",
      "Iteration No: 59 ended. Search finished for the next optimal point.\n",
      "Time taken: 1.3593\n",
      "Function value obtained: 0.1386\n",
      "Current minimum: 0.1025\n",
      "Iteration No: 60 started. Searching for the next optimal point.\n",
      "Iteration No: 60 ended. Search finished for the next optimal point.\n",
      "Time taken: 1.5807\n",
      "Function value obtained: 0.1627\n",
      "Current minimum: 0.1025\n",
      "Iteration No: 61 started. Searching for the next optimal point.\n",
      "Iteration No: 61 ended. Search finished for the next optimal point.\n",
      "Time taken: 1.7020\n",
      "Function value obtained: 0.1049\n",
      "Current minimum: 0.1025\n",
      "Iteration No: 62 started. Searching for the next optimal point.\n",
      "Iteration No: 62 ended. Search finished for the next optimal point.\n",
      "Time taken: 1.7583\n",
      "Function value obtained: 0.3069\n",
      "Current minimum: 0.1025\n",
      "Iteration No: 63 started. Searching for the next optimal point.\n",
      "Iteration No: 63 ended. Search finished for the next optimal point.\n",
      "Time taken: 1.2364\n",
      "Function value obtained: 0.3069\n",
      "Current minimum: 0.1025\n",
      "Iteration No: 64 started. Searching for the next optimal point.\n",
      "Iteration No: 64 ended. Search finished for the next optimal point.\n",
      "Time taken: 1.7644\n",
      "Function value obtained: 0.3014\n",
      "Current minimum: 0.1025\n",
      "Iteration No: 65 started. Searching for the next optimal point.\n",
      "Iteration No: 65 ended. Search finished for the next optimal point.\n",
      "Time taken: 1.5071\n",
      "Function value obtained: 0.2619\n",
      "Current minimum: 0.1025\n",
      "Iteration No: 66 started. Searching for the next optimal point.\n",
      "Iteration No: 66 ended. Search finished for the next optimal point.\n",
      "Time taken: 2.3639\n",
      "Function value obtained: 0.3069\n",
      "Current minimum: 0.1025\n",
      "Iteration No: 67 started. Searching for the next optimal point.\n",
      "Iteration No: 67 ended. Search finished for the next optimal point.\n",
      "Time taken: 1.4572\n",
      "Function value obtained: 0.1008\n",
      "Current minimum: 0.1008\n",
      "Iteration No: 68 started. Searching for the next optimal point.\n",
      "Iteration No: 68 ended. Search finished for the next optimal point.\n",
      "Time taken: 1.6960\n",
      "Function value obtained: 0.0989\n",
      "Current minimum: 0.0989\n",
      "Iteration No: 69 started. Searching for the next optimal point.\n",
      "Iteration No: 69 ended. Search finished for the next optimal point.\n",
      "Time taken: 1.8262\n",
      "Function value obtained: 0.1006\n",
      "Current minimum: 0.0989\n",
      "Iteration No: 70 started. Searching for the next optimal point.\n",
      "Iteration No: 70 ended. Search finished for the next optimal point.\n",
      "Time taken: 1.5849\n",
      "Function value obtained: 0.1800\n",
      "Current minimum: 0.0989\n",
      "Iteration No: 71 started. Searching for the next optimal point.\n",
      "Iteration No: 71 ended. Search finished for the next optimal point.\n",
      "Time taken: 1.9337\n",
      "Function value obtained: 0.0997\n",
      "Current minimum: 0.0989\n",
      "Iteration No: 72 started. Searching for the next optimal point.\n",
      "Iteration No: 72 ended. Search finished for the next optimal point.\n",
      "Time taken: 2.3029\n",
      "Function value obtained: 0.0997\n",
      "Current minimum: 0.0989\n",
      "Iteration No: 73 started. Searching for the next optimal point.\n",
      "Iteration No: 73 ended. Search finished for the next optimal point.\n",
      "Time taken: 1.7634\n",
      "Function value obtained: 0.3069\n",
      "Current minimum: 0.0989\n",
      "Iteration No: 74 started. Searching for the next optimal point.\n",
      "Iteration No: 74 ended. Search finished for the next optimal point.\n",
      "Time taken: 3.0847\n",
      "Function value obtained: 0.1017\n",
      "Current minimum: 0.0989\n",
      "Iteration No: 75 started. Searching for the next optimal point.\n",
      "Iteration No: 75 ended. Search finished for the next optimal point.\n",
      "Time taken: 2.8269\n",
      "Function value obtained: 0.1031\n",
      "Current minimum: 0.0989\n",
      "Iteration No: 76 started. Searching for the next optimal point.\n",
      "Iteration No: 76 ended. Search finished for the next optimal point.\n",
      "Time taken: 1.7800\n",
      "Function value obtained: 0.3069\n",
      "Current minimum: 0.0989\n",
      "Iteration No: 77 started. Searching for the next optimal point.\n"
     ]
    },
    {
     "name": "stdout",
     "output_type": "stream",
     "text": [
      "Iteration No: 77 ended. Search finished for the next optimal point.\n",
      "Time taken: 1.9762\n",
      "Function value obtained: 0.1041\n",
      "Current minimum: 0.0989\n",
      "Iteration No: 78 started. Searching for the next optimal point.\n",
      "Iteration No: 78 ended. Search finished for the next optimal point.\n",
      "Time taken: 1.6350\n",
      "Function value obtained: 0.1062\n",
      "Current minimum: 0.0989\n",
      "Iteration No: 79 started. Searching for the next optimal point.\n",
      "Iteration No: 79 ended. Search finished for the next optimal point.\n",
      "Time taken: 1.5869\n",
      "Function value obtained: 0.1086\n",
      "Current minimum: 0.0989\n",
      "Iteration No: 80 started. Searching for the next optimal point.\n",
      "Iteration No: 80 ended. Search finished for the next optimal point.\n",
      "Time taken: 1.8038\n",
      "Function value obtained: 0.1172\n",
      "Current minimum: 0.0989\n",
      "Iteration No: 81 started. Searching for the next optimal point.\n",
      "Iteration No: 81 ended. Search finished for the next optimal point.\n",
      "Time taken: 1.8906\n",
      "Function value obtained: 0.1381\n",
      "Current minimum: 0.0989\n",
      "Iteration No: 82 started. Searching for the next optimal point.\n",
      "Iteration No: 82 ended. Search finished for the next optimal point.\n",
      "Time taken: 1.5929\n",
      "Function value obtained: 0.2044\n",
      "Current minimum: 0.0989\n",
      "Iteration No: 83 started. Searching for the next optimal point.\n",
      "Iteration No: 83 ended. Search finished for the next optimal point.\n",
      "Time taken: 1.6732\n",
      "Function value obtained: 0.1344\n",
      "Current minimum: 0.0989\n",
      "Iteration No: 84 started. Searching for the next optimal point.\n",
      "Iteration No: 84 ended. Search finished for the next optimal point.\n",
      "Time taken: 1.5288\n",
      "Function value obtained: 0.3069\n",
      "Current minimum: 0.0989\n",
      "Iteration No: 85 started. Searching for the next optimal point.\n",
      "Iteration No: 85 ended. Search finished for the next optimal point.\n",
      "Time taken: 1.6605\n",
      "Function value obtained: 0.1027\n",
      "Current minimum: 0.0989\n",
      "Iteration No: 86 started. Searching for the next optimal point.\n",
      "Iteration No: 86 ended. Search finished for the next optimal point.\n",
      "Time taken: 1.8192\n",
      "Function value obtained: 0.1113\n",
      "Current minimum: 0.0989\n",
      "Iteration No: 87 started. Searching for the next optimal point.\n",
      "Iteration No: 87 ended. Search finished for the next optimal point.\n",
      "Time taken: 1.7440\n",
      "Function value obtained: 0.1191\n",
      "Current minimum: 0.0989\n",
      "Iteration No: 88 started. Searching for the next optimal point.\n",
      "Iteration No: 88 ended. Search finished for the next optimal point.\n",
      "Time taken: 1.9046\n",
      "Function value obtained: 0.1017\n",
      "Current minimum: 0.0989\n",
      "Iteration No: 89 started. Searching for the next optimal point.\n",
      "Iteration No: 89 ended. Search finished for the next optimal point.\n",
      "Time taken: 1.8173\n",
      "Function value obtained: 0.1350\n",
      "Current minimum: 0.0989\n",
      "Iteration No: 90 started. Searching for the next optimal point.\n",
      "Iteration No: 90 ended. Search finished for the next optimal point.\n",
      "Time taken: 1.8545\n",
      "Function value obtained: 0.1057\n",
      "Current minimum: 0.0989\n",
      "Iteration No: 91 started. Searching for the next optimal point.\n",
      "Iteration No: 91 ended. Search finished for the next optimal point.\n",
      "Time taken: 2.0423\n",
      "Function value obtained: 0.3069\n",
      "Current minimum: 0.0989\n",
      "Iteration No: 92 started. Searching for the next optimal point.\n",
      "Iteration No: 92 ended. Search finished for the next optimal point.\n",
      "Time taken: 2.1102\n",
      "Function value obtained: 0.1007\n",
      "Current minimum: 0.0989\n",
      "Iteration No: 93 started. Searching for the next optimal point.\n",
      "Iteration No: 93 ended. Search finished for the next optimal point.\n",
      "Time taken: 1.9409\n",
      "Function value obtained: 0.1003\n",
      "Current minimum: 0.0989\n",
      "Iteration No: 94 started. Searching for the next optimal point.\n",
      "Iteration No: 94 ended. Search finished for the next optimal point.\n",
      "Time taken: 2.6112\n",
      "Function value obtained: 0.1023\n",
      "Current minimum: 0.0989\n",
      "Iteration No: 95 started. Searching for the next optimal point.\n",
      "Iteration No: 95 ended. Search finished for the next optimal point.\n",
      "Time taken: 2.6355\n",
      "Function value obtained: 0.1048\n",
      "Current minimum: 0.0989\n",
      "Iteration No: 96 started. Searching for the next optimal point.\n",
      "Iteration No: 96 ended. Search finished for the next optimal point.\n",
      "Time taken: 2.9433\n",
      "Function value obtained: 0.1015\n",
      "Current minimum: 0.0989\n",
      "Iteration No: 97 started. Searching for the next optimal point.\n",
      "Iteration No: 97 ended. Search finished for the next optimal point.\n",
      "Time taken: 2.0328\n",
      "Function value obtained: 0.1003\n",
      "Current minimum: 0.0989\n",
      "Iteration No: 98 started. Searching for the next optimal point.\n",
      "Iteration No: 98 ended. Search finished for the next optimal point.\n",
      "Time taken: 2.0447\n",
      "Function value obtained: 0.1057\n",
      "Current minimum: 0.0989\n",
      "Iteration No: 99 started. Searching for the next optimal point.\n",
      "Iteration No: 99 ended. Search finished for the next optimal point.\n",
      "Time taken: 2.4475\n",
      "Function value obtained: 0.1008\n",
      "Current minimum: 0.0989\n",
      "Iteration No: 100 started. Searching for the next optimal point.\n",
      "Iteration No: 100 ended. Search finished for the next optimal point.\n",
      "Time taken: 2.2085\n",
      "Function value obtained: 0.1000\n",
      "Current minimum: 0.0989\n"
     ]
    }
   ],
   "source": [
    "res_gp = gp_minimize(objective, SPACE_lgbm, n_calls=100, random_state=42, verbose=True)"
   ]
  },
  {
   "cell_type": "code",
   "execution_count": 30,
   "metadata": {},
   "outputs": [
    {
     "data": {
      "text/plain": [
       "<AxesSubplot:title={'center':'Convergence plot'}, xlabel='Number of calls $n$', ylabel='$\\\\min f(x)$ after $n$ calls'>"
      ]
     },
     "execution_count": 30,
     "metadata": {},
     "output_type": "execute_result"
    },
    {
     "data": {
      "image/png": "[encoded data removed]",
      "text/plain": [
       "<Figure size 432x288 with 1 Axes>"
      ]
     },
     "metadata": {
      "needs_background": "light"
     },
     "output_type": "display_data"
    }
   ],
   "source": [
    "plot_convergence(res_gp)"
   ]
  },
  {
   "cell_type": "markdown",
   "metadata": {},
   "source": [
    "Expecting the best score, model, and it's parameters"
   ]
  },
  {
   "cell_type": "code",
   "execution_count": 31,
   "metadata": {},
   "outputs": [
    {
     "name": "stdout",
     "output_type": "stream",
     "text": [
      "Best score is 0.09893944021104546\n",
      "Can be reached with parameters:\n",
      "{'learning_rate': 0.3589273391940407, 'max_depth': 185, 'num_leaves': 175, 'min_data_in_leaf': 2, 'feature_fraction': 0.9, 'bagging_fraction': 0.9, 'bagging_freq': 181, 'min_gain_to_split': 0.0, 'max_bin': 500, 'lambda_l1': 0.1, 'lambda_l2': 40.0, 'min_sum_hessian_in_leaf': 25.0, 'boosting': 'gbdt', 'pos_bagging_fraction': 1.0, 'neg_bagging_fraction': 1.0, 'feature_fraction_bynode': 1.0, 'min_data_per_group': 2, 'max_cat_threshold': 150, 'cat_l2': 35.170410646054684, 'cat_smooth': 45.37059081133547, 'use_missing': False, 'metric': 'l2'}\n"
     ]
    }
   ],
   "source": [
    "def to_named_params(params):\n",
    "    return dict([(dimension.name, param) for dimension, param in zip(SPACE_lgbm, params)])\n",
    "\n",
    "print('Best score is', res_gp.fun)\n",
    "params = to_named_params(res_gp.x_iters[res_gp.func_vals.argmin()])\n",
    "print('Can be reached with parameters:')\n",
    "print(params)"
   ]
  },
  {
   "cell_type": "markdown",
   "metadata": {},
   "source": [
    "Defined method for lgbm model training using repeated KFold, returns temporary score, model itself and average test scores"
   ]
  },
  {
   "cell_type": "code",
   "execution_count": 32,
   "metadata": {},
   "outputs": [],
   "source": [
    "def train_eval_model(train, target, test_numpy, params, n_splits, verbose=False):\n",
    "    skf = RepeatedKFold(n_splits=n_splits, n_repeats = 5)\n",
    "    test_scores = np.zeros(len(test_numpy))\n",
    "    for i, (tr, val) in enumerate(skf.split(train, target)):\n",
    "        model_res = {\n",
    "        'test_res': [],\n",
    "        'estimator' : [],\n",
    "        }\n",
    "        model = LGBMRegressor(random_state = 42)\n",
    "        model.set_params(**params)\n",
    "        \n",
    "        x_train, x_val, y_train, y_val = train[tr], train[val], target[tr], target[val]\n",
    "        \n",
    "        model.fit(x_train, y_train)\n",
    "        val_preds = model.predict(x_val)\n",
    "        \n",
    "        score = mean_absolute_error(y_val, val_preds)\n",
    "    \n",
    "        model_res['estimator'].append(model)\n",
    "        test_scores += model.predict(test_numpy)\n",
    "        \n",
    "        if verbose:\n",
    "            print('-' * 100)\n",
    "            print(\"Score: \", score)  \n",
    "            print('-' * 100)\n",
    "    \n",
    "    test_scores /= n_splits * skf.n_repeats\n",
    "    return score, model_res, test_scores"
   ]
  },
  {
   "cell_type": "code",
   "execution_count": 33,
   "metadata": {},
   "outputs": [
    {
     "name": "stdout",
     "output_type": "stream",
     "text": [
      "[LightGBM] [Warning] bagging_freq is set=181, subsample_freq=0 will be ignored. Current value: bagging_freq=181\n",
      "[LightGBM] [Warning] bagging_fraction is set=0.9, subsample=1.0 will be ignored. Current value: bagging_fraction=0.9\n",
      "[LightGBM] [Warning] lambda_l2 is set=40.0, reg_lambda=0.0 will be ignored. Current value: lambda_l2=40.0\n",
      "[LightGBM] [Warning] feature_fraction is set=0.9, colsample_bytree=1.0 will be ignored. Current value: feature_fraction=0.9\n",
      "[LightGBM] [Warning] boosting is set=gbdt, boosting_type=gbdt will be ignored. Current value: boosting=gbdt\n",
      "[LightGBM] [Warning] min_gain_to_split is set=0.0, min_split_gain=0.0 will be ignored. Current value: min_gain_to_split=0.0\n",
      "[LightGBM] [Warning] lambda_l1 is set=0.1, reg_alpha=0.0 will be ignored. Current value: lambda_l1=0.1\n",
      "[LightGBM] [Warning] min_sum_hessian_in_leaf is set=25.0, min_child_weight=0.001 will be ignored. Current value: min_sum_hessian_in_leaf=25.0\n",
      "[LightGBM] [Warning] min_data_in_leaf is set=2, min_child_samples=20 will be ignored. Current value: min_data_in_leaf=2\n",
      "----------------------------------------------------------------------------------------------------\n",
      "Score:  0.10144213769745344\n",
      "----------------------------------------------------------------------------------------------------\n",
      "[LightGBM] [Warning] bagging_freq is set=181, subsample_freq=0 will be ignored. Current value: bagging_freq=181\n",
      "[LightGBM] [Warning] bagging_fraction is set=0.9, subsample=1.0 will be ignored. Current value: bagging_fraction=0.9\n",
      "[LightGBM] [Warning] lambda_l2 is set=40.0, reg_lambda=0.0 will be ignored. Current value: lambda_l2=40.0\n",
      "[LightGBM] [Warning] feature_fraction is set=0.9, colsample_bytree=1.0 will be ignored. Current value: feature_fraction=0.9\n",
      "[LightGBM] [Warning] boosting is set=gbdt, boosting_type=gbdt will be ignored. Current value: boosting=gbdt\n",
      "[LightGBM] [Warning] min_gain_to_split is set=0.0, min_split_gain=0.0 will be ignored. Current value: min_gain_to_split=0.0\n",
      "[LightGBM] [Warning] lambda_l1 is set=0.1, reg_alpha=0.0 will be ignored. Current value: lambda_l1=0.1\n",
      "[LightGBM] [Warning] min_sum_hessian_in_leaf is set=25.0, min_child_weight=0.001 will be ignored. Current value: min_sum_hessian_in_leaf=25.0\n",
      "[LightGBM] [Warning] min_data_in_leaf is set=2, min_child_samples=20 will be ignored. Current value: min_data_in_leaf=2\n",
      "----------------------------------------------------------------------------------------------------\n",
      "Score:  0.10466701017777431\n",
      "----------------------------------------------------------------------------------------------------\n",
      "[LightGBM] [Warning] bagging_freq is set=181, subsample_freq=0 will be ignored. Current value: bagging_freq=181\n",
      "[LightGBM] [Warning] bagging_fraction is set=0.9, subsample=1.0 will be ignored. Current value: bagging_fraction=0.9\n",
      "[LightGBM] [Warning] lambda_l2 is set=40.0, reg_lambda=0.0 will be ignored. Current value: lambda_l2=40.0\n",
      "[LightGBM] [Warning] feature_fraction is set=0.9, colsample_bytree=1.0 will be ignored. Current value: feature_fraction=0.9\n",
      "[LightGBM] [Warning] boosting is set=gbdt, boosting_type=gbdt will be ignored. Current value: boosting=gbdt\n",
      "[LightGBM] [Warning] min_gain_to_split is set=0.0, min_split_gain=0.0 will be ignored. Current value: min_gain_to_split=0.0\n",
      "[LightGBM] [Warning] lambda_l1 is set=0.1, reg_alpha=0.0 will be ignored. Current value: lambda_l1=0.1\n",
      "[LightGBM] [Warning] min_sum_hessian_in_leaf is set=25.0, min_child_weight=0.001 will be ignored. Current value: min_sum_hessian_in_leaf=25.0\n",
      "[LightGBM] [Warning] min_data_in_leaf is set=2, min_child_samples=20 will be ignored. Current value: min_data_in_leaf=2\n",
      "----------------------------------------------------------------------------------------------------\n",
      "Score:  0.10563502364725808\n",
      "----------------------------------------------------------------------------------------------------\n",
      "[LightGBM] [Warning] bagging_freq is set=181, subsample_freq=0 will be ignored. Current value: bagging_freq=181\n",
      "[LightGBM] [Warning] bagging_fraction is set=0.9, subsample=1.0 will be ignored. Current value: bagging_fraction=0.9\n",
      "[LightGBM] [Warning] lambda_l2 is set=40.0, reg_lambda=0.0 will be ignored. Current value: lambda_l2=40.0\n",
      "[LightGBM] [Warning] feature_fraction is set=0.9, colsample_bytree=1.0 will be ignored. Current value: feature_fraction=0.9\n",
      "[LightGBM] [Warning] boosting is set=gbdt, boosting_type=gbdt will be ignored. Current value: boosting=gbdt\n",
      "[LightGBM] [Warning] min_gain_to_split is set=0.0, min_split_gain=0.0 will be ignored. Current value: min_gain_to_split=0.0\n",
      "[LightGBM] [Warning] lambda_l1 is set=0.1, reg_alpha=0.0 will be ignored. Current value: lambda_l1=0.1\n",
      "[LightGBM] [Warning] min_sum_hessian_in_leaf is set=25.0, min_child_weight=0.001 will be ignored. Current value: min_sum_hessian_in_leaf=25.0\n",
      "[LightGBM] [Warning] min_data_in_leaf is set=2, min_child_samples=20 will be ignored. Current value: min_data_in_leaf=2\n",
      "----------------------------------------------------------------------------------------------------\n",
      "Score:  0.10586559903324046\n",
      "----------------------------------------------------------------------------------------------------\n",
      "[LightGBM] [Warning] bagging_freq is set=181, subsample_freq=0 will be ignored. Current value: bagging_freq=181\n",
      "[LightGBM] [Warning] bagging_fraction is set=0.9, subsample=1.0 will be ignored. Current value: bagging_fraction=0.9\n",
      "[LightGBM] [Warning] lambda_l2 is set=40.0, reg_lambda=0.0 will be ignored. Current value: lambda_l2=40.0\n",
      "[LightGBM] [Warning] feature_fraction is set=0.9, colsample_bytree=1.0 will be ignored. Current value: feature_fraction=0.9\n",
      "[LightGBM] [Warning] boosting is set=gbdt, boosting_type=gbdt will be ignored. Current value: boosting=gbdt\n",
      "[LightGBM] [Warning] min_gain_to_split is set=0.0, min_split_gain=0.0 will be ignored. Current value: min_gain_to_split=0.0\n",
      "[LightGBM] [Warning] lambda_l1 is set=0.1, reg_alpha=0.0 will be ignored. Current value: lambda_l1=0.1\n",
      "[LightGBM] [Warning] min_sum_hessian_in_leaf is set=25.0, min_child_weight=0.001 will be ignored. Current value: min_sum_hessian_in_leaf=25.0\n",
      "[LightGBM] [Warning] min_data_in_leaf is set=2, min_child_samples=20 will be ignored. Current value: min_data_in_leaf=2\n",
      "----------------------------------------------------------------------------------------------------\n",
      "Score:  0.10261747270616642\n",
      "----------------------------------------------------------------------------------------------------\n",
      "[LightGBM] [Warning] bagging_freq is set=181, subsample_freq=0 will be ignored. Current value: bagging_freq=181\n",
      "[LightGBM] [Warning] bagging_fraction is set=0.9, subsample=1.0 will be ignored. Current value: bagging_fraction=0.9\n",
      "[LightGBM] [Warning] lambda_l2 is set=40.0, reg_lambda=0.0 will be ignored. Current value: lambda_l2=40.0\n",
      "[LightGBM] [Warning] feature_fraction is set=0.9, colsample_bytree=1.0 will be ignored. Current value: feature_fraction=0.9\n",
      "[LightGBM] [Warning] boosting is set=gbdt, boosting_type=gbdt will be ignored. Current value: boosting=gbdt\n",
      "[LightGBM] [Warning] min_gain_to_split is set=0.0, min_split_gain=0.0 will be ignored. Current value: min_gain_to_split=0.0\n",
      "[LightGBM] [Warning] lambda_l1 is set=0.1, reg_alpha=0.0 will be ignored. Current value: lambda_l1=0.1\n",
      "[LightGBM] [Warning] min_sum_hessian_in_leaf is set=25.0, min_child_weight=0.001 will be ignored. Current value: min_sum_hessian_in_leaf=25.0\n",
      "[LightGBM] [Warning] min_data_in_leaf is set=2, min_child_samples=20 will be ignored. Current value: min_data_in_leaf=2\n",
      "----------------------------------------------------------------------------------------------------\n",
      "Score:  0.10042426660280061\n",
      "----------------------------------------------------------------------------------------------------\n",
      "[LightGBM] [Warning] bagging_freq is set=181, subsample_freq=0 will be ignored. Current value: bagging_freq=181\n",
      "[LightGBM] [Warning] bagging_fraction is set=0.9, subsample=1.0 will be ignored. Current value: bagging_fraction=0.9\n",
      "[LightGBM] [Warning] lambda_l2 is set=40.0, reg_lambda=0.0 will be ignored. Current value: lambda_l2=40.0\n",
      "[LightGBM] [Warning] feature_fraction is set=0.9, colsample_bytree=1.0 will be ignored. Current value: feature_fraction=0.9\n",
      "[LightGBM] [Warning] boosting is set=gbdt, boosting_type=gbdt will be ignored. Current value: boosting=gbdt\n",
      "[LightGBM] [Warning] min_gain_to_split is set=0.0, min_split_gain=0.0 will be ignored. Current value: min_gain_to_split=0.0\n",
      "[LightGBM] [Warning] lambda_l1 is set=0.1, reg_alpha=0.0 will be ignored. Current value: lambda_l1=0.1\n",
      "[LightGBM] [Warning] min_sum_hessian_in_leaf is set=25.0, min_child_weight=0.001 will be ignored. Current value: min_sum_hessian_in_leaf=25.0\n",
      "[LightGBM] [Warning] min_data_in_leaf is set=2, min_child_samples=20 will be ignored. Current value: min_data_in_leaf=2\n"
     ]
    },
    {
     "name": "stdout",
     "output_type": "stream",
     "text": [
      "----------------------------------------------------------------------------------------------------\n",
      "Score:  0.11156108627643788\n",
      "----------------------------------------------------------------------------------------------------\n",
      "[LightGBM] [Warning] bagging_freq is set=181, subsample_freq=0 will be ignored. Current value: bagging_freq=181\n",
      "[LightGBM] [Warning] bagging_fraction is set=0.9, subsample=1.0 will be ignored. Current value: bagging_fraction=0.9\n",
      "[LightGBM] [Warning] lambda_l2 is set=40.0, reg_lambda=0.0 will be ignored. Current value: lambda_l2=40.0\n",
      "[LightGBM] [Warning] feature_fraction is set=0.9, colsample_bytree=1.0 will be ignored. Current value: feature_fraction=0.9\n",
      "[LightGBM] [Warning] boosting is set=gbdt, boosting_type=gbdt will be ignored. Current value: boosting=gbdt\n",
      "[LightGBM] [Warning] min_gain_to_split is set=0.0, min_split_gain=0.0 will be ignored. Current value: min_gain_to_split=0.0\n",
      "[LightGBM] [Warning] lambda_l1 is set=0.1, reg_alpha=0.0 will be ignored. Current value: lambda_l1=0.1\n",
      "[LightGBM] [Warning] min_sum_hessian_in_leaf is set=25.0, min_child_weight=0.001 will be ignored. Current value: min_sum_hessian_in_leaf=25.0\n",
      "[LightGBM] [Warning] min_data_in_leaf is set=2, min_child_samples=20 will be ignored. Current value: min_data_in_leaf=2\n",
      "----------------------------------------------------------------------------------------------------\n",
      "Score:  0.09706854101532611\n",
      "----------------------------------------------------------------------------------------------------\n",
      "[LightGBM] [Warning] bagging_freq is set=181, subsample_freq=0 will be ignored. Current value: bagging_freq=181\n",
      "[LightGBM] [Warning] bagging_fraction is set=0.9, subsample=1.0 will be ignored. Current value: bagging_fraction=0.9\n",
      "[LightGBM] [Warning] lambda_l2 is set=40.0, reg_lambda=0.0 will be ignored. Current value: lambda_l2=40.0\n",
      "[LightGBM] [Warning] feature_fraction is set=0.9, colsample_bytree=1.0 will be ignored. Current value: feature_fraction=0.9\n",
      "[LightGBM] [Warning] boosting is set=gbdt, boosting_type=gbdt will be ignored. Current value: boosting=gbdt\n",
      "[LightGBM] [Warning] min_gain_to_split is set=0.0, min_split_gain=0.0 will be ignored. Current value: min_gain_to_split=0.0\n",
      "[LightGBM] [Warning] lambda_l1 is set=0.1, reg_alpha=0.0 will be ignored. Current value: lambda_l1=0.1\n",
      "[LightGBM] [Warning] min_sum_hessian_in_leaf is set=25.0, min_child_weight=0.001 will be ignored. Current value: min_sum_hessian_in_leaf=25.0\n",
      "[LightGBM] [Warning] min_data_in_leaf is set=2, min_child_samples=20 will be ignored. Current value: min_data_in_leaf=2\n",
      "----------------------------------------------------------------------------------------------------\n",
      "Score:  0.09654975881416196\n",
      "----------------------------------------------------------------------------------------------------\n",
      "[LightGBM] [Warning] bagging_freq is set=181, subsample_freq=0 will be ignored. Current value: bagging_freq=181\n",
      "[LightGBM] [Warning] bagging_fraction is set=0.9, subsample=1.0 will be ignored. Current value: bagging_fraction=0.9\n",
      "[LightGBM] [Warning] lambda_l2 is set=40.0, reg_lambda=0.0 will be ignored. Current value: lambda_l2=40.0\n",
      "[LightGBM] [Warning] feature_fraction is set=0.9, colsample_bytree=1.0 will be ignored. Current value: feature_fraction=0.9\n",
      "[LightGBM] [Warning] boosting is set=gbdt, boosting_type=gbdt will be ignored. Current value: boosting=gbdt\n",
      "[LightGBM] [Warning] min_gain_to_split is set=0.0, min_split_gain=0.0 will be ignored. Current value: min_gain_to_split=0.0\n",
      "[LightGBM] [Warning] lambda_l1 is set=0.1, reg_alpha=0.0 will be ignored. Current value: lambda_l1=0.1\n",
      "[LightGBM] [Warning] min_sum_hessian_in_leaf is set=25.0, min_child_weight=0.001 will be ignored. Current value: min_sum_hessian_in_leaf=25.0\n",
      "[LightGBM] [Warning] min_data_in_leaf is set=2, min_child_samples=20 will be ignored. Current value: min_data_in_leaf=2\n",
      "----------------------------------------------------------------------------------------------------\n",
      "Score:  0.09487671714486517\n",
      "----------------------------------------------------------------------------------------------------\n",
      "[LightGBM] [Warning] bagging_freq is set=181, subsample_freq=0 will be ignored. Current value: bagging_freq=181\n",
      "[LightGBM] [Warning] bagging_fraction is set=0.9, subsample=1.0 will be ignored. Current value: bagging_fraction=0.9\n",
      "[LightGBM] [Warning] lambda_l2 is set=40.0, reg_lambda=0.0 will be ignored. Current value: lambda_l2=40.0\n",
      "[LightGBM] [Warning] feature_fraction is set=0.9, colsample_bytree=1.0 will be ignored. Current value: feature_fraction=0.9\n",
      "[LightGBM] [Warning] boosting is set=gbdt, boosting_type=gbdt will be ignored. Current value: boosting=gbdt\n",
      "[LightGBM] [Warning] min_gain_to_split is set=0.0, min_split_gain=0.0 will be ignored. Current value: min_gain_to_split=0.0\n",
      "[LightGBM] [Warning] lambda_l1 is set=0.1, reg_alpha=0.0 will be ignored. Current value: lambda_l1=0.1\n",
      "[LightGBM] [Warning] min_sum_hessian_in_leaf is set=25.0, min_child_weight=0.001 will be ignored. Current value: min_sum_hessian_in_leaf=25.0\n",
      "[LightGBM] [Warning] min_data_in_leaf is set=2, min_child_samples=20 will be ignored. Current value: min_data_in_leaf=2\n",
      "----------------------------------------------------------------------------------------------------\n",
      "Score:  0.09827580075220063\n",
      "----------------------------------------------------------------------------------------------------\n",
      "[LightGBM] [Warning] bagging_freq is set=181, subsample_freq=0 will be ignored. Current value: bagging_freq=181\n",
      "[LightGBM] [Warning] bagging_fraction is set=0.9, subsample=1.0 will be ignored. Current value: bagging_fraction=0.9\n",
      "[LightGBM] [Warning] lambda_l2 is set=40.0, reg_lambda=0.0 will be ignored. Current value: lambda_l2=40.0\n",
      "[LightGBM] [Warning] feature_fraction is set=0.9, colsample_bytree=1.0 will be ignored. Current value: feature_fraction=0.9\n",
      "[LightGBM] [Warning] boosting is set=gbdt, boosting_type=gbdt will be ignored. Current value: boosting=gbdt\n",
      "[LightGBM] [Warning] min_gain_to_split is set=0.0, min_split_gain=0.0 will be ignored. Current value: min_gain_to_split=0.0\n",
      "[LightGBM] [Warning] lambda_l1 is set=0.1, reg_alpha=0.0 will be ignored. Current value: lambda_l1=0.1\n",
      "[LightGBM] [Warning] min_sum_hessian_in_leaf is set=25.0, min_child_weight=0.001 will be ignored. Current value: min_sum_hessian_in_leaf=25.0\n",
      "[LightGBM] [Warning] min_data_in_leaf is set=2, min_child_samples=20 will be ignored. Current value: min_data_in_leaf=2\n",
      "----------------------------------------------------------------------------------------------------\n",
      "Score:  0.102492750710813\n",
      "----------------------------------------------------------------------------------------------------\n",
      "[LightGBM] [Warning] bagging_freq is set=181, subsample_freq=0 will be ignored. Current value: bagging_freq=181\n",
      "[LightGBM] [Warning] bagging_fraction is set=0.9, subsample=1.0 will be ignored. Current value: bagging_fraction=0.9\n",
      "[LightGBM] [Warning] lambda_l2 is set=40.0, reg_lambda=0.0 will be ignored. Current value: lambda_l2=40.0\n",
      "[LightGBM] [Warning] feature_fraction is set=0.9, colsample_bytree=1.0 will be ignored. Current value: feature_fraction=0.9\n",
      "[LightGBM] [Warning] boosting is set=gbdt, boosting_type=gbdt will be ignored. Current value: boosting=gbdt\n",
      "[LightGBM] [Warning] min_gain_to_split is set=0.0, min_split_gain=0.0 will be ignored. Current value: min_gain_to_split=0.0\n",
      "[LightGBM] [Warning] lambda_l1 is set=0.1, reg_alpha=0.0 will be ignored. Current value: lambda_l1=0.1\n",
      "[LightGBM] [Warning] min_sum_hessian_in_leaf is set=25.0, min_child_weight=0.001 will be ignored. Current value: min_sum_hessian_in_leaf=25.0\n",
      "[LightGBM] [Warning] min_data_in_leaf is set=2, min_child_samples=20 will be ignored. Current value: min_data_in_leaf=2\n",
      "----------------------------------------------------------------------------------------------------\n",
      "Score:  0.09786665187390856\n",
      "----------------------------------------------------------------------------------------------------\n",
      "[LightGBM] [Warning] bagging_freq is set=181, subsample_freq=0 will be ignored. Current value: bagging_freq=181\n",
      "[LightGBM] [Warning] bagging_fraction is set=0.9, subsample=1.0 will be ignored. Current value: bagging_fraction=0.9\n",
      "[LightGBM] [Warning] lambda_l2 is set=40.0, reg_lambda=0.0 will be ignored. Current value: lambda_l2=40.0\n",
      "[LightGBM] [Warning] feature_fraction is set=0.9, colsample_bytree=1.0 will be ignored. Current value: feature_fraction=0.9\n",
      "[LightGBM] [Warning] boosting is set=gbdt, boosting_type=gbdt will be ignored. Current value: boosting=gbdt\n",
      "[LightGBM] [Warning] min_gain_to_split is set=0.0, min_split_gain=0.0 will be ignored. Current value: min_gain_to_split=0.0\n",
      "[LightGBM] [Warning] lambda_l1 is set=0.1, reg_alpha=0.0 will be ignored. Current value: lambda_l1=0.1\n",
      "[LightGBM] [Warning] min_sum_hessian_in_leaf is set=25.0, min_child_weight=0.001 will be ignored. Current value: min_sum_hessian_in_leaf=25.0\n",
      "[LightGBM] [Warning] min_data_in_leaf is set=2, min_child_samples=20 will be ignored. Current value: min_data_in_leaf=2\n"
     ]
    },
    {
     "name": "stdout",
     "output_type": "stream",
     "text": [
      "----------------------------------------------------------------------------------------------------\n",
      "Score:  0.1032190028597648\n",
      "----------------------------------------------------------------------------------------------------\n",
      "[LightGBM] [Warning] bagging_freq is set=181, subsample_freq=0 will be ignored. Current value: bagging_freq=181\n",
      "[LightGBM] [Warning] bagging_fraction is set=0.9, subsample=1.0 will be ignored. Current value: bagging_fraction=0.9\n",
      "[LightGBM] [Warning] lambda_l2 is set=40.0, reg_lambda=0.0 will be ignored. Current value: lambda_l2=40.0\n",
      "[LightGBM] [Warning] feature_fraction is set=0.9, colsample_bytree=1.0 will be ignored. Current value: feature_fraction=0.9\n",
      "[LightGBM] [Warning] boosting is set=gbdt, boosting_type=gbdt will be ignored. Current value: boosting=gbdt\n",
      "[LightGBM] [Warning] min_gain_to_split is set=0.0, min_split_gain=0.0 will be ignored. Current value: min_gain_to_split=0.0\n",
      "[LightGBM] [Warning] lambda_l1 is set=0.1, reg_alpha=0.0 will be ignored. Current value: lambda_l1=0.1\n",
      "[LightGBM] [Warning] min_sum_hessian_in_leaf is set=25.0, min_child_weight=0.001 will be ignored. Current value: min_sum_hessian_in_leaf=25.0\n",
      "[LightGBM] [Warning] min_data_in_leaf is set=2, min_child_samples=20 will be ignored. Current value: min_data_in_leaf=2\n",
      "----------------------------------------------------------------------------------------------------\n",
      "Score:  0.09875444872028886\n",
      "----------------------------------------------------------------------------------------------------\n"
     ]
    }
   ],
   "source": [
    "score, model_res, test_scores = train_eval_model(reversed_train, target, reversed_test, params, 3, True)"
   ]
  },
  {
   "cell_type": "code",
   "execution_count": 34,
   "metadata": {},
   "outputs": [],
   "source": [
    "model_lgbm = model_res['estimator'][0]"
   ]
  },
  {
   "cell_type": "markdown",
   "metadata": {},
   "source": [
    "Improvement in losses as expected"
   ]
  },
  {
   "cell_type": "code",
   "execution_count": 35,
   "metadata": {},
   "outputs": [
    {
     "name": "stdout",
     "output_type": "stream",
     "text": [
      " MAE of validation set: 17100.082304145868 \n",
      " MAE of train set: 10736.042985701077 \n",
      " MSE of validation set: 29826.45573560205 \n",
      " MSE of train set: 22795.297090485947\n"
     ]
    }
   ],
   "source": [
    "print(f' MAE of validation set: {mean_absolute_error(np.exp(val_target), np.exp(model_lgbm.predict(reversed_val)))}',\n",
    "      '\\n', f'MAE of train set: {mean_absolute_error(np.exp(target), np.exp(model_lgbm.predict(reversed_train)))}',\n",
    "      '\\n', \n",
    "      f'MSE of validation set: {mean_squared_error(np.exp(val_target), np.exp(model_lgbm.predict(reversed_val)), squared = False)}',\n",
    "      '\\n', f'MSE of train set: {mean_squared_error(np.exp(target), np.exp(model_lgbm.predict(reversed_train)), squared = False)}')"
   ]
  },
  {
   "cell_type": "markdown",
   "metadata": {},
   "source": [
    "Saving predictions"
   ]
  },
  {
   "cell_type": "code",
   "execution_count": 36,
   "metadata": {},
   "outputs": [],
   "source": [
    "test['SalePrice'] = np.exp(test_scores)"
   ]
  },
  {
   "cell_type": "code",
   "execution_count": 37,
   "metadata": {},
   "outputs": [],
   "source": [
    "test[['Id', 'SalePrice']].to_csv('data/prediction.csv')"
   ]
  },
  {
   "cell_type": "code",
   "execution_count": null,
   "metadata": {},
   "outputs": [],
   "source": []
  }
 ],
 "metadata": {
  "kernelspec": {
   "display_name": "Python 3",
   "language": "python",
   "name": "python3"
  },
  "language_info": {
   "codemirror_mode": {
    "name": "ipython",
    "version": 3
   },
   "file_extension": ".py",
   "mimetype": "text/x-python",
   "name": "python",
   "nbconvert_exporter": "python",
   "pygments_lexer": "ipython3",
   "version": "3.7.6"
  }
 },
 "nbformat": 4,
 "nbformat_minor": 4
}
